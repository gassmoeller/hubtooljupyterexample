{
 "cells": [
  {
   "cell_type": "markdown",
   "metadata": {},
   "source": [
    "# Example on how to use Python to read the output files from ASPECT.\n",
    "\n",
    "We start by importing the packages needed and the functions from the file read_files.py:"
   ]
  },
  {
   "cell_type": "code",
   "execution_count": null,
   "metadata": {},
   "outputs": [
    {
     "ename": "",
     "evalue": "",
     "output_type": "error",
     "traceback": [
      "\u001b[1;31mFailed to start the Kernel. \n",
      "Jupyter server crashed. Unable to connect. \r\n",
      "Error code from jupyter: 1\n",
      "Traceback (most recent call last):\n",
      "  File \"/home/rene/.local/bin/jupyter-notebook\", line 7, in <module>\n",
      "    from notebook.notebookapp import main\n",
      "ModuleNotFoundError: No module named 'notebook'. \n",
      "View Jupyter <a href='command:jupyter.viewOutput'>log</a> for further details."
     ]
    }
   ],
   "source": [
    "%matplotlib inline  \n",
    "## This allows figures to be plotted \"inline\". \n",
    "## In a normal python script, you use plt.show() to see the figures, \n",
    "## or plt.savefig(\"name.pdf\") to save the figures \n",
    "## (you can also use this command in the notebooks)\n",
    "\n",
    "import numpy as np  # for mathematical functions and arrays\n",
    "import matplotlib.pyplot as plt  # for plot\n",
    "import pandas as pd # for data analysis\n",
    "from scipy.interpolate import griddata\n",
    "## We use short names for the libraries we use a lot.\n",
    "\n",
    "import io \n",
    "import os\n",
    "from subprocess import run\n",
    "\n",
    "import aspect_data"
   ]
  },
  {
   "cell_type": "markdown",
   "metadata": {},
   "source": [
    "# Running aspect from the notebook \n",
    "\n",
    "You may want to modify the path for the aspect build folder. \n",
    "\n",
    "A run will provide the output files that we are then reading later. "
   ]
  },
  {
   "cell_type": "code",
   "execution_count": 3,
   "metadata": {},
   "outputs": [],
   "source": [
    "#input_file = \"convection-box.prm\"     \n",
    "#aspect_bin = \"../../build/aspect\"          # Path to aspect executable\n",
    "output_dir = \"../data/output-convection-box/\"                      # Output directory\n",
    "\n",
    "#def run_aspect():\n",
    "#    run(['rm','-rf',output_dir])\n",
    "#    run([aspect_bin,input_file])\n",
    "    \n",
    "#run_aspect()"
   ]
  },
  {
   "cell_type": "markdown",
   "metadata": {},
   "source": [
    "# Parameter file\n",
    "\n",
    "Sometimes, it's useful to be able to access the values for the parameters inside the parameter file, especially if you are exploring a large parameter space. \n",
    "\n",
    "You can read the parameter file with the function read_files.read_parameter_file(filename)"
   ]
  },
  {
   "cell_type": "code",
   "execution_count": 4,
   "metadata": {},
   "outputs": [],
   "source": [
    "param_file = output_dir+\"parameters.prm\"\n",
    "param = aspect_data.read_parameter_file(param_file)"
   ]
  },
  {
   "cell_type": "markdown",
   "metadata": {},
   "source": [
    "The param variable is then a dictionnary that include all the parameters that have been defined in the original parameter file. One can then access the values using the same names than the subsections in the .prm file. "
   ]
  },
  {
   "cell_type": "code",
   "execution_count": 5,
   "metadata": {},
   "outputs": [
    {
     "name": "stdout",
     "output_type": "stream",
     "text": [
      "{'Material averaging': ['none'], 'Model name': ['simple']}\n",
      "{'Composition viscosity prefactor': ['1.0'], 'Density differential for compositional field 1': ['0.'], 'Maximum thermal prefactor': ['1.0e2'], 'Minimum thermal prefactor': ['1.0e-2'], 'Reference density': ['1'], 'Reference specific heat': ['1'], 'Reference temperature': ['0'], 'Thermal conductivity': ['1'], 'Thermal expansion coefficient': ['1'], 'Thermal viscosity exponent': ['0.0'], 'Viscosity': ['1']}\n"
     ]
    }
   ],
   "source": [
    "print(param[\"Material model\"])\n",
    "print(param[\"Material model: Simple model\"])"
   ]
  },
  {
   "cell_type": "markdown",
   "metadata": {},
   "source": [
    "## File statistics\n",
    "\n",
    "The file statistics regroup all the statistics for everytime steps. It can be a very long file, so pandas (a package for data analysis) is the best tool to open and read it. \n",
    "The number of columns depends on your run, and is indicated as comments at the beginning of the file. The function read_statistics() will first read the comments, extracts the names of the columns and then read the file with pd.read_csv(). \n",
    "\n",
    "Here, we use an example of a run with a 1D column. All the output files are in the folder ./example. "
   ]
  },
  {
   "cell_type": "code",
   "execution_count": 6,
   "metadata": {},
   "outputs": [],
   "source": [
    "# we provide the name for the file statistics:\n",
    "statistics = output_dir+ \"statistics\"\n",
    "\n",
    "# we read the file with our function:\n",
    "data =  aspect_data.read_statistics(statistics)"
   ]
  },
  {
   "cell_type": "markdown",
   "metadata": {},
   "source": [
    "The output of the function is a pandas dataframe, where all datas are in a big table where the columns have human-readable names. We can have a look at the table wit data.head()"
   ]
  },
  {
   "cell_type": "code",
   "execution_count": null,
   "metadata": {},
   "outputs": [
    {
     "ename": "",
     "evalue": "",
     "output_type": "error",
     "traceback": [
      "\u001b[1;31mFailed to start the Kernel. \n",
      "Jupyter server crashed. Unable to connect. \r\n",
      "Error code from jupyter: 1\n",
      "Traceback (most recent call last):\n",
      "  File \"/home/rene/.local/bin/jupyter-notebook\", line 7, in <module>\n",
      "\n",
      "    from notebook.notebookapp import main\n",
      "ModuleNotFoundError: No module named 'notebook'. \n",
      "View Jupyter <a href='command:jupyter.viewOutput'>log</a> for further details."
     ]
    }
   ],
   "source": [
    "data.head()"
   ]
  },
  {
   "cell_type": "markdown",
   "metadata": {},
   "source": [
    "We can then look at the evolution of some of the statistics with time: "
   ]
  },
  {
   "cell_type": "code",
   "execution_count": 8,
   "metadata": {},
   "outputs": [
    {
     "data": {
      "text/plain": [
       "<matplotlib.axes._subplots.AxesSubplot at 0x7f55e0bfbd10>"
      ]
     },
     "execution_count": 8,
     "metadata": {},
     "output_type": "execute_result"
    },
    {
     "data": {
      "image/png": "[encoded data removed]",
      "text/plain": [
       "<Figure size 432x288 with 1 Axes>"
      ]
     },
     "metadata": {
      "needs_background": "light"
     },
     "output_type": "display_data"
    }
   ],
   "source": [
    "# using the plot function embedded in the panda frame:\n",
    "data.plot(\"Time (seconds)\", \"RMS velocity (m/s)\")"
   ]
  },
  {
   "cell_type": "code",
   "execution_count": 9,
   "metadata": {
    "scrolled": true
   },
   "outputs": [
    {
     "name": "stderr",
     "output_type": "stream",
     "text": [
      "/home/rene/.local/lib/python3.7/site-packages/matplotlib/cbook/__init__.py:2062: FutureWarning: Support for multi-dimensional indexing (e.g. `obj[:, None]`) is deprecated and will be removed in a future version.  Convert to a numpy array before indexing instead.\n",
      "  x[:, None]\n",
      "/home/rene/.local/lib/python3.7/site-packages/matplotlib/axes/_base.py:248: FutureWarning: Support for multi-dimensional indexing (e.g. `obj[:, None]`) is deprecated and will be removed in a future version.  Convert to a numpy array before indexing instead.\n",
      "  x = x[:, np.newaxis]\n",
      "/home/rene/.local/lib/python3.7/site-packages/matplotlib/axes/_base.py:250: FutureWarning: Support for multi-dimensional indexing (e.g. `obj[:, None]`) is deprecated and will be removed in a future version.  Convert to a numpy array before indexing instead.\n",
      "  y = y[:, np.newaxis]\n"
     ]
    },
    {
     "data": {
      "text/plain": [
       "Text(0.5,0,'Time (s)')"
      ]
     },
     "execution_count": 9,
     "metadata": {},
     "output_type": "execute_result"
    },
    {
     "data": {
      "image/png": "[encoded data removed]",
      "text/plain": [
       "<Figure size 432x288 with 1 Axes>"
      ]
     },
     "metadata": {
      "needs_background": "light"
     },
     "output_type": "display_data"
    }
   ],
   "source": [
    "# or using the pyplot functions (allows more flexibility)\n",
    "\n",
    "fig, ax = plt.subplots()\n",
    "\n",
    "ax.plot(data[\"Time (seconds)\"], data[\"RMS velocity (m/s)\"], label=\"RMS velocity\")\n",
    "ax.plot(data[\"Time (seconds)\"], data[\"Max. velocity (m/s)\"], label=\"Max velocity\")\n",
    "ax.legend()\n",
    "ax.set_xlabel(\"Time (s)\")"
   ]
  },
  {
   "cell_type": "markdown",
   "metadata": {},
   "source": [
    "## Visualization files\n",
    "\n",
    "The statistics file includes when visualization files have been created. If they have been written as gnuplot files, then we can read them and plot them. \n",
    "\n",
    "In the example case, the grid is a column of 1 cell width. So the output can be plotted as 1D variable. "
   ]
  },
  {
   "cell_type": "code",
   "execution_count": 10,
   "metadata": {},
   "outputs": [
    {
     "ename": "FileNotFoundError",
     "evalue": "[Errno 2] No such file or directory: 'output-convection-box/solution/solution-00000.0000.gnuplot'",
     "output_type": "error",
     "traceback": [
      "\u001b[0;31m---------------------------------------------------------------------------\u001b[0m",
      "\u001b[0;31mFileNotFoundError\u001b[0m                         Traceback (most recent call last)",
      "\u001b[0;32m<ipython-input-10-e12978456e6a>\u001b[0m in \u001b[0;36m<module>\u001b[0;34m\u001b[0m\n\u001b[1;32m      6\u001b[0m \u001b[0mvisu_times\u001b[0m \u001b[0;34m=\u001b[0m \u001b[0mdata\u001b[0m\u001b[0;34m[\u001b[0m\u001b[0;34m\"Time (seconds)\"\u001b[0m\u001b[0;34m]\u001b[0m\u001b[0;34m.\u001b[0m\u001b[0mvalues\u001b[0m\u001b[0;34m\u001b[0m\u001b[0;34m\u001b[0m\u001b[0m\n\u001b[1;32m      7\u001b[0m \u001b[0;34m\u001b[0m\u001b[0m\n\u001b[0;32m----> 8\u001b[0;31m \u001b[0mdf\u001b[0m \u001b[0;34m=\u001b[0m \u001b[0maspect_data\u001b[0m\u001b[0;34m.\u001b[0m\u001b[0mread_gnuplot_visu\u001b[0m\u001b[0;34m(\u001b[0m\u001b[0mvisu_files\u001b[0m\u001b[0;34m[\u001b[0m\u001b[0;36m0\u001b[0m\u001b[0;34m]\u001b[0m\u001b[0;34m+\u001b[0m\u001b[0;34m\".0000.gnuplot\"\u001b[0m\u001b[0;34m)\u001b[0m\u001b[0;34m\u001b[0m\u001b[0;34m\u001b[0m\u001b[0m\n\u001b[0m\u001b[1;32m      9\u001b[0m \u001b[0mprint\u001b[0m\u001b[0;34m(\u001b[0m\u001b[0mdf\u001b[0m\u001b[0;34m.\u001b[0m\u001b[0mhead\u001b[0m\u001b[0;34m(\u001b[0m\u001b[0;34m)\u001b[0m\u001b[0;34m)\u001b[0m\u001b[0;34m\u001b[0m\u001b[0;34m\u001b[0m\u001b[0m\n",
      "\u001b[0;32m~/software/hubtooljupyterexample/bin/aspect_data.py\u001b[0m in \u001b[0;36mread_gnuplot_visu\u001b[0;34m(fname)\u001b[0m\n\u001b[1;32m     42\u001b[0m \u001b[0;34m\u001b[0m\u001b[0m\n\u001b[1;32m     43\u001b[0m     \u001b[0;31m# Look for the line that starts with \"# <\", which contains all the names of variables.\u001b[0m\u001b[0;34m\u001b[0m\u001b[0;34m\u001b[0m\u001b[0;34m\u001b[0m\u001b[0m\n\u001b[0;32m---> 44\u001b[0;31m     \u001b[0;32mwith\u001b[0m \u001b[0mopen\u001b[0m\u001b[0;34m(\u001b[0m\u001b[0mfname\u001b[0m\u001b[0;34m)\u001b[0m \u001b[0;32mas\u001b[0m \u001b[0mf\u001b[0m\u001b[0;34m:\u001b[0m\u001b[0;34m\u001b[0m\u001b[0;34m\u001b[0m\u001b[0m\n\u001b[0m\u001b[1;32m     45\u001b[0m         \u001b[0mi\u001b[0m \u001b[0;34m=\u001b[0m \u001b[0;36m0\u001b[0m\u001b[0;34m\u001b[0m\u001b[0;34m\u001b[0m\u001b[0m\n\u001b[1;32m     46\u001b[0m         \u001b[0;32mwhile\u001b[0m \u001b[0mheader_read\u001b[0m \u001b[0;32mand\u001b[0m \u001b[0mi\u001b[0m\u001b[0;34m<\u001b[0m\u001b[0;36m100\u001b[0m\u001b[0;34m:\u001b[0m\u001b[0;34m\u001b[0m\u001b[0;34m\u001b[0m\u001b[0m\n",
      "\u001b[0;31mFileNotFoundError\u001b[0m: [Errno 2] No such file or directory: 'output-convection-box/solution/solution-00000.0000.gnuplot'"
     ]
    }
   ],
   "source": [
    "# we remove the values from data with NaN in the visualization file name column\n",
    "data = data.dropna(subset=[\"Visualization file name\"])\n",
    "\n",
    "# we store the values for the file names and the associated time. \n",
    "visu_files = data[\"Visualization file name\"].values\n",
    "visu_times = data[\"Time (seconds)\"].values\n",
    "\n",
    "df = aspect_data.read_gnuplot_visu(\"../data/\" + visu_files[0]+\".0000.gnuplot\")\n",
    "print(df.head())"
   ]
  },
  {
   "cell_type": "markdown",
   "metadata": {},
   "source": [
    "### Unstructured grid \n",
    "\n",
    "The points are not always on a structured grid, so tricontourf may be the best way to plot the temperature field for example"
   ]
  },
  {
   "cell_type": "code",
   "execution_count": null,
   "metadata": {},
   "outputs": [
    {
     "ename": "",
     "evalue": "",
     "output_type": "error",
     "traceback": [
      "\u001b[1;31mFailed to start the Kernel. \n",
      "Jupyter server crashed. Unable to connect. \r\n",
      "Error code from jupyter: 1\n",
      "Traceback (most recent call last):\n",
      "  File \"/home/rene/.local/bin/jupyter-notebook\", line 7, in <module>\n",
      "\n",
      "    from notebook.notebookapp import main\n",
      "ModuleNotFoundError: No module named 'notebook'. \n",
      "View Jupyter <a href='command:jupyter.viewOutput'>log</a> for further details."
     ]
    }
   ],
   "source": [
    "fig, ax = plt.subplots(1, 5, sharey=True, sharex=True, figsize=[15,3])\n",
    "\n",
    "i=0\n",
    "for time, file in zip(visu_times[:-2:2], \"../data/\" + visu_files[:-2:2]):\n",
    "    #print(time, file)\n",
    "    file = file+\".0000.gnuplot\"\n",
    "    df = aspect_data.read_gnuplot_visu(file)\n",
    "    #df = df[df[\"x\"]==0.5]\n",
    "    x, y, t = df[\"x\"].values, df[\"y\"].values, df[\"T\"].values\n",
    "    ax[i].tricontourf(x, y, t, 15, vmin=0, vmax=1)\n",
    "    i += 1"
   ]
  },
  {
   "cell_type": "markdown",
   "metadata": {},
   "source": [
    "### Structured grid \n",
    "\n",
    "However, for plotting the velocities, it may be easier to interpolate on a structured grid, using griddata from scipy.\n",
    "\n",
    "This also allows to use streamplots, for example. \n",
    "\n",
    "In that case, we choose where the points will be interpolated, which may be better in the case of very asymetric x/y axis (for example if one axis in log scale and not the other)"
   ]
  },
  {
   "cell_type": "code",
   "execution_count": null,
   "metadata": {},
   "outputs": [
    {
     "ename": "",
     "evalue": "",
     "output_type": "error",
     "traceback": [
      "\u001b[1;31mFailed to start the Kernel. \n",
      "Jupyter server crashed. Unable to connect. \r\n",
      "Error code from jupyter: 1\n",
      "Traceback (most recent call last):\n",
      "  File \"/home/rene/.local/bin/jupyter-notebook\", line 7, in <module>\n",
      "\n",
      "    from notebook.notebookapp import main\n",
      "ModuleNotFoundError: No module named 'notebook'. \n",
      "View Jupyter <a href='command:jupyter.viewOutput'>log</a> for further details."
     ]
    }
   ],
   "source": [
    "fig, ax = plt.subplots()\n",
    "\n",
    "# define grid.\n",
    "xi = np.linspace(0, 1, 100)\n",
    "yi = np.linspace(0, 1, 100)\n",
    "xi, yi = np.meshgrid(xi, yi)\n",
    "\n",
    "# interpolate the values on the grid for the temperature.\n",
    "Ti = griddata((x, y), t, (xi, yi))\n",
    "# contour the gridded data, plotting dots at the nonuniform data points.\n",
    "#CS = plt.contour(xi, yi, Ti, 15, linewidths=0.5, colors='k')\n",
    "CS = ax.contourf(xi, yi, Ti, 15,\n",
    "                  vmax=1., vmin=0.)\n",
    "fig.colorbar(CS, ax=ax, ticks=[0, 0.5, 1])\n",
    "\n",
    "# grid the velocities\n",
    "vx, vy = df[\"velocity_x\"].values, df[\"velocity_y\"].values\n",
    "Vxi = griddata( (x, y), vx, (xi, yi))\n",
    "Vyi = griddata( (x, y), vy, (xi, yi))\n",
    "ax.streamplot(xi, yi, Vxi, Vyi, density=[0.5,0.5], color='k')\n",
    "\n",
    "ax.axis('equal')  # force the x and y axes to have the same scale\n",
    "ax.set_xlim([0,1])\n",
    "ax.set_ylim([0,1])\n",
    "ax.axis('off') # remove the axes and ticks"
   ]
  }
 ],
 "metadata": {
  "kernelspec": {
   "display_name": "Python 3",
   "language": "python",
   "name": "python3"
  },
  "language_info": {
   "codemirror_mode": {
    "name": "ipython",
    "version": 3
   },
   "file_extension": ".py",
   "mimetype": "text/x-python",
   "name": "python",
   "nbconvert_exporter": "python",
   "pygments_lexer": "ipython3",
   "version": "3.7.10"
  }
 },
 "nbformat": 4,
 "nbformat_minor": 2
}
